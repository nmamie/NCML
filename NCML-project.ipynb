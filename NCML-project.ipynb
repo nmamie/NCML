{
 "cells": [
  {
   "cell_type": "code",
   "execution_count": 31,
   "id": "6fc776da-0334-4d03-a3dd-86ce681d6bf3",
   "metadata": {},
   "outputs": [],
   "source": [
    "#https://www.kaggle.com/code/prasadmeesala/breast-cancer-classification-1-0\n",
    "import numpy as np\n",
    "import os\n",
    "\n",
    "# # Import PySwarms\n",
    "# import pyswarms as ps\n",
    "# PySwarm Upgrade: scikit-opt\n",
    "import sko\n",
    "from sko.APSO import APSO\n",
    "\n",
    "import pandas as pd \n",
    "import matplotlib.pyplot as plt\n",
    "import seaborn as sns\n",
    "import category_encoders\n",
    "from scipy.stats import ttest_ind\n",
    "from sklearn.preprocessing import StandardScaler\n",
    "from sklearn.model_selection import train_test_split\n",
    "from sklearn.feature_selection import SelectKBest, f_classif, f_regression\n",
    "from sklearn.neighbors import KNeighborsClassifier\n",
    "from sklearn.ensemble import RandomForestClassifier\n",
    "from sklearn.svm import SVC\n",
    "from sklearn.metrics import accuracy_score, classification_report\n",
    "from sklearn.manifold import TSNE\n",
    "import minisom"
   ]
  },
  {
   "cell_type": "code",
   "execution_count": 90,
   "id": "4f3eaab5-c2be-4a5f-8105-97562c30cd3d",
   "metadata": {},
   "outputs": [],
   "source": [
    "#/Users/4lali/Downloads/GSE58606_data.csv\n",
    "data=pd.read_csv(\"CUMIDA-Breast-Cancer/Breast_GSE45827.csv\")"
   ]
  },
  {
   "cell_type": "code",
   "execution_count": 91,
   "id": "3bb303ba-f498-41ca-92e3-53be02434011",
   "metadata": {},
   "outputs": [
    {
     "data": {
      "text/html": [
       "<div>\n",
       "<style scoped>\n",
       "    .dataframe tbody tr th:only-of-type {\n",
       "        vertical-align: middle;\n",
       "    }\n",
       "\n",
       "    .dataframe tbody tr th {\n",
       "        vertical-align: top;\n",
       "    }\n",
       "\n",
       "    .dataframe thead th {\n",
       "        text-align: right;\n",
       "    }\n",
       "</style>\n",
       "<table border=\"1\" class=\"dataframe\">\n",
       "  <thead>\n",
       "    <tr style=\"text-align: right;\">\n",
       "      <th></th>\n",
       "      <th>samples</th>\n",
       "      <th>type</th>\n",
       "      <th>1007_s_at</th>\n",
       "      <th>1053_at</th>\n",
       "      <th>117_at</th>\n",
       "      <th>121_at</th>\n",
       "      <th>1255_g_at</th>\n",
       "      <th>1294_at</th>\n",
       "      <th>1316_at</th>\n",
       "      <th>1320_at</th>\n",
       "      <th>...</th>\n",
       "      <th>AFFX-r2-Ec-bioD-3_at</th>\n",
       "      <th>AFFX-r2-Ec-bioD-5_at</th>\n",
       "      <th>AFFX-r2-P1-cre-3_at</th>\n",
       "      <th>AFFX-r2-P1-cre-5_at</th>\n",
       "      <th>AFFX-ThrX-3_at</th>\n",
       "      <th>AFFX-ThrX-5_at</th>\n",
       "      <th>AFFX-ThrX-M_at</th>\n",
       "      <th>AFFX-TrpnX-3_at</th>\n",
       "      <th>AFFX-TrpnX-5_at</th>\n",
       "      <th>AFFX-TrpnX-M_at</th>\n",
       "    </tr>\n",
       "  </thead>\n",
       "  <tbody>\n",
       "    <tr>\n",
       "      <th>0</th>\n",
       "      <td>84</td>\n",
       "      <td>basal</td>\n",
       "      <td>9.850040</td>\n",
       "      <td>8.097927</td>\n",
       "      <td>6.424728</td>\n",
       "      <td>7.353027</td>\n",
       "      <td>3.029122</td>\n",
       "      <td>6.880079</td>\n",
       "      <td>4.963740</td>\n",
       "      <td>4.408328</td>\n",
       "      <td>...</td>\n",
       "      <td>12.229711</td>\n",
       "      <td>11.852955</td>\n",
       "      <td>13.658701</td>\n",
       "      <td>13.477698</td>\n",
       "      <td>6.265781</td>\n",
       "      <td>5.016196</td>\n",
       "      <td>4.901594</td>\n",
       "      <td>2.966657</td>\n",
       "      <td>3.508495</td>\n",
       "      <td>3.301999</td>\n",
       "    </tr>\n",
       "    <tr>\n",
       "      <th>1</th>\n",
       "      <td>85</td>\n",
       "      <td>basal</td>\n",
       "      <td>9.861357</td>\n",
       "      <td>8.212222</td>\n",
       "      <td>7.062593</td>\n",
       "      <td>7.685578</td>\n",
       "      <td>3.149468</td>\n",
       "      <td>7.542283</td>\n",
       "      <td>5.129607</td>\n",
       "      <td>4.584418</td>\n",
       "      <td>...</td>\n",
       "      <td>12.178531</td>\n",
       "      <td>11.809408</td>\n",
       "      <td>13.750086</td>\n",
       "      <td>13.470146</td>\n",
       "      <td>6.771853</td>\n",
       "      <td>5.291005</td>\n",
       "      <td>5.405839</td>\n",
       "      <td>2.934763</td>\n",
       "      <td>3.687666</td>\n",
       "      <td>3.064299</td>\n",
       "    </tr>\n",
       "    <tr>\n",
       "      <th>2</th>\n",
       "      <td>87</td>\n",
       "      <td>basal</td>\n",
       "      <td>10.103478</td>\n",
       "      <td>8.936137</td>\n",
       "      <td>5.735970</td>\n",
       "      <td>7.687822</td>\n",
       "      <td>3.125931</td>\n",
       "      <td>6.562369</td>\n",
       "      <td>4.813449</td>\n",
       "      <td>4.425195</td>\n",
       "      <td>...</td>\n",
       "      <td>12.125108</td>\n",
       "      <td>11.725766</td>\n",
       "      <td>13.621732</td>\n",
       "      <td>13.295080</td>\n",
       "      <td>6.346952</td>\n",
       "      <td>5.171403</td>\n",
       "      <td>5.184286</td>\n",
       "      <td>2.847684</td>\n",
       "      <td>3.550597</td>\n",
       "      <td>3.158535</td>\n",
       "    </tr>\n",
       "    <tr>\n",
       "      <th>3</th>\n",
       "      <td>90</td>\n",
       "      <td>basal</td>\n",
       "      <td>9.756875</td>\n",
       "      <td>7.357148</td>\n",
       "      <td>6.479183</td>\n",
       "      <td>6.986624</td>\n",
       "      <td>3.181638</td>\n",
       "      <td>7.802344</td>\n",
       "      <td>5.490982</td>\n",
       "      <td>4.567956</td>\n",
       "      <td>...</td>\n",
       "      <td>12.111235</td>\n",
       "      <td>11.719215</td>\n",
       "      <td>13.743108</td>\n",
       "      <td>13.508861</td>\n",
       "      <td>6.610284</td>\n",
       "      <td>5.193356</td>\n",
       "      <td>5.086569</td>\n",
       "      <td>3.031602</td>\n",
       "      <td>3.524981</td>\n",
       "      <td>3.272665</td>\n",
       "    </tr>\n",
       "    <tr>\n",
       "      <th>4</th>\n",
       "      <td>91</td>\n",
       "      <td>basal</td>\n",
       "      <td>9.408330</td>\n",
       "      <td>7.746404</td>\n",
       "      <td>6.693980</td>\n",
       "      <td>7.333426</td>\n",
       "      <td>3.169923</td>\n",
       "      <td>7.610457</td>\n",
       "      <td>5.372469</td>\n",
       "      <td>4.424426</td>\n",
       "      <td>...</td>\n",
       "      <td>12.173642</td>\n",
       "      <td>11.861296</td>\n",
       "      <td>13.797774</td>\n",
       "      <td>13.542206</td>\n",
       "      <td>6.414354</td>\n",
       "      <td>5.040202</td>\n",
       "      <td>5.235318</td>\n",
       "      <td>2.956232</td>\n",
       "      <td>3.445501</td>\n",
       "      <td>3.193947</td>\n",
       "    </tr>\n",
       "  </tbody>\n",
       "</table>\n",
       "<p>5 rows × 54677 columns</p>\n",
       "</div>"
      ],
      "text/plain": [
       "   samples   type  1007_s_at   1053_at    117_at    121_at  1255_g_at  \\\n",
       "0       84  basal   9.850040  8.097927  6.424728  7.353027   3.029122   \n",
       "1       85  basal   9.861357  8.212222  7.062593  7.685578   3.149468   \n",
       "2       87  basal  10.103478  8.936137  5.735970  7.687822   3.125931   \n",
       "3       90  basal   9.756875  7.357148  6.479183  6.986624   3.181638   \n",
       "4       91  basal   9.408330  7.746404  6.693980  7.333426   3.169923   \n",
       "\n",
       "    1294_at   1316_at   1320_at  ...  AFFX-r2-Ec-bioD-3_at  \\\n",
       "0  6.880079  4.963740  4.408328  ...             12.229711   \n",
       "1  7.542283  5.129607  4.584418  ...             12.178531   \n",
       "2  6.562369  4.813449  4.425195  ...             12.125108   \n",
       "3  7.802344  5.490982  4.567956  ...             12.111235   \n",
       "4  7.610457  5.372469  4.424426  ...             12.173642   \n",
       "\n",
       "   AFFX-r2-Ec-bioD-5_at  AFFX-r2-P1-cre-3_at  AFFX-r2-P1-cre-5_at  \\\n",
       "0             11.852955            13.658701            13.477698   \n",
       "1             11.809408            13.750086            13.470146   \n",
       "2             11.725766            13.621732            13.295080   \n",
       "3             11.719215            13.743108            13.508861   \n",
       "4             11.861296            13.797774            13.542206   \n",
       "\n",
       "   AFFX-ThrX-3_at  AFFX-ThrX-5_at  AFFX-ThrX-M_at  AFFX-TrpnX-3_at  \\\n",
       "0        6.265781        5.016196        4.901594         2.966657   \n",
       "1        6.771853        5.291005        5.405839         2.934763   \n",
       "2        6.346952        5.171403        5.184286         2.847684   \n",
       "3        6.610284        5.193356        5.086569         3.031602   \n",
       "4        6.414354        5.040202        5.235318         2.956232   \n",
       "\n",
       "   AFFX-TrpnX-5_at  AFFX-TrpnX-M_at  \n",
       "0         3.508495         3.301999  \n",
       "1         3.687666         3.064299  \n",
       "2         3.550597         3.158535  \n",
       "3         3.524981         3.272665  \n",
       "4         3.445501         3.193947  \n",
       "\n",
       "[5 rows x 54677 columns]"
      ]
     },
     "execution_count": 91,
     "metadata": {},
     "output_type": "execute_result"
    }
   ],
   "source": [
    "data.head()"
   ]
  },
  {
   "cell_type": "code",
   "execution_count": 92,
   "id": "3b190534-da90-49ed-bf7e-6076d75db1fc",
   "metadata": {},
   "outputs": [
    {
     "data": {
      "text/plain": [
       "(151, 54677)"
      ]
     },
     "execution_count": 92,
     "metadata": {},
     "output_type": "execute_result"
    }
   ],
   "source": [
    "data=data.dropna(axis=0, how='any')\n",
    "data.shape"
   ]
  },
  {
   "cell_type": "code",
   "execution_count": 93,
   "id": "0b68637c-294d-4003-a701-85a6e075685f",
   "metadata": {},
   "outputs": [
    {
     "data": {
      "text/plain": [
       "False"
      ]
     },
     "execution_count": 93,
     "metadata": {},
     "output_type": "execute_result"
    }
   ],
   "source": [
    "# check missing values :\n",
    "data.isnull().values.any()"
   ]
  },
  {
   "cell_type": "code",
   "execution_count": 94,
   "id": "7f5cd60e-1790-4c82-983e-75a38270d0de",
   "metadata": {},
   "outputs": [
    {
     "data": {
      "text/html": [
       "<div>\n",
       "<style scoped>\n",
       "    .dataframe tbody tr th:only-of-type {\n",
       "        vertical-align: middle;\n",
       "    }\n",
       "\n",
       "    .dataframe tbody tr th {\n",
       "        vertical-align: top;\n",
       "    }\n",
       "\n",
       "    .dataframe thead th {\n",
       "        text-align: right;\n",
       "    }\n",
       "</style>\n",
       "<table border=\"1\" class=\"dataframe\">\n",
       "  <thead>\n",
       "    <tr style=\"text-align: right;\">\n",
       "      <th></th>\n",
       "      <th>samples</th>\n",
       "      <th>1007_s_at</th>\n",
       "      <th>1053_at</th>\n",
       "      <th>117_at</th>\n",
       "      <th>121_at</th>\n",
       "      <th>1255_g_at</th>\n",
       "      <th>1294_at</th>\n",
       "      <th>1316_at</th>\n",
       "      <th>1320_at</th>\n",
       "    </tr>\n",
       "  </thead>\n",
       "  <tbody>\n",
       "    <tr>\n",
       "      <th>count</th>\n",
       "      <td>151.000000</td>\n",
       "      <td>151.000000</td>\n",
       "      <td>151.000000</td>\n",
       "      <td>151.000000</td>\n",
       "      <td>151.000000</td>\n",
       "      <td>151.000000</td>\n",
       "      <td>151.000000</td>\n",
       "      <td>151.000000</td>\n",
       "      <td>151.000000</td>\n",
       "    </tr>\n",
       "    <tr>\n",
       "      <th>mean</th>\n",
       "      <td>160.668874</td>\n",
       "      <td>10.338901</td>\n",
       "      <td>7.631910</td>\n",
       "      <td>6.224885</td>\n",
       "      <td>7.339248</td>\n",
       "      <td>3.185252</td>\n",
       "      <td>7.310240</td>\n",
       "      <td>5.323484</td>\n",
       "      <td>4.714095</td>\n",
       "    </tr>\n",
       "    <tr>\n",
       "      <th>std</th>\n",
       "      <td>45.431226</td>\n",
       "      <td>0.613445</td>\n",
       "      <td>0.706464</td>\n",
       "      <td>0.645435</td>\n",
       "      <td>0.330827</td>\n",
       "      <td>0.158909</td>\n",
       "      <td>0.642091</td>\n",
       "      <td>0.294513</td>\n",
       "      <td>0.308550</td>\n",
       "    </tr>\n",
       "    <tr>\n",
       "      <th>min</th>\n",
       "      <td>84.000000</td>\n",
       "      <td>7.505488</td>\n",
       "      <td>5.855968</td>\n",
       "      <td>4.763602</td>\n",
       "      <td>6.632206</td>\n",
       "      <td>2.760583</td>\n",
       "      <td>5.455736</td>\n",
       "      <td>4.646131</td>\n",
       "      <td>3.946065</td>\n",
       "    </tr>\n",
       "    <tr>\n",
       "      <th>25%</th>\n",
       "      <td>121.500000</td>\n",
       "      <td>10.103030</td>\n",
       "      <td>7.166075</td>\n",
       "      <td>5.798087</td>\n",
       "      <td>7.105841</td>\n",
       "      <td>3.075873</td>\n",
       "      <td>6.874504</td>\n",
       "      <td>5.131931</td>\n",
       "      <td>4.466260</td>\n",
       "    </tr>\n",
       "    <tr>\n",
       "      <th>50%</th>\n",
       "      <td>159.000000</td>\n",
       "      <td>10.416819</td>\n",
       "      <td>7.531673</td>\n",
       "      <td>6.235074</td>\n",
       "      <td>7.333426</td>\n",
       "      <td>3.187703</td>\n",
       "      <td>7.417113</td>\n",
       "      <td>5.274663</td>\n",
       "      <td>4.662957</td>\n",
       "    </tr>\n",
       "    <tr>\n",
       "      <th>75%</th>\n",
       "      <td>200.500000</td>\n",
       "      <td>10.735117</td>\n",
       "      <td>8.053832</td>\n",
       "      <td>6.612291</td>\n",
       "      <td>7.513084</td>\n",
       "      <td>3.280416</td>\n",
       "      <td>7.760806</td>\n",
       "      <td>5.456686</td>\n",
       "      <td>4.941337</td>\n",
       "    </tr>\n",
       "    <tr>\n",
       "      <th>max</th>\n",
       "      <td>238.000000</td>\n",
       "      <td>11.675109</td>\n",
       "      <td>9.627008</td>\n",
       "      <td>8.364749</td>\n",
       "      <td>8.374055</td>\n",
       "      <td>3.611630</td>\n",
       "      <td>8.569296</td>\n",
       "      <td>6.360765</td>\n",
       "      <td>5.893006</td>\n",
       "    </tr>\n",
       "  </tbody>\n",
       "</table>\n",
       "</div>"
      ],
      "text/plain": [
       "          samples   1007_s_at     1053_at      117_at      121_at   1255_g_at  \\\n",
       "count  151.000000  151.000000  151.000000  151.000000  151.000000  151.000000   \n",
       "mean   160.668874   10.338901    7.631910    6.224885    7.339248    3.185252   \n",
       "std     45.431226    0.613445    0.706464    0.645435    0.330827    0.158909   \n",
       "min     84.000000    7.505488    5.855968    4.763602    6.632206    2.760583   \n",
       "25%    121.500000   10.103030    7.166075    5.798087    7.105841    3.075873   \n",
       "50%    159.000000   10.416819    7.531673    6.235074    7.333426    3.187703   \n",
       "75%    200.500000   10.735117    8.053832    6.612291    7.513084    3.280416   \n",
       "max    238.000000   11.675109    9.627008    8.364749    8.374055    3.611630   \n",
       "\n",
       "          1294_at     1316_at     1320_at  \n",
       "count  151.000000  151.000000  151.000000  \n",
       "mean     7.310240    5.323484    4.714095  \n",
       "std      0.642091    0.294513    0.308550  \n",
       "min      5.455736    4.646131    3.946065  \n",
       "25%      6.874504    5.131931    4.466260  \n",
       "50%      7.417113    5.274663    4.662957  \n",
       "75%      7.760806    5.456686    4.941337  \n",
       "max      8.569296    6.360765    5.893006  "
      ]
     },
     "execution_count": 94,
     "metadata": {},
     "output_type": "execute_result"
    }
   ],
   "source": [
    "data.iloc[:, :10].describe()"
   ]
  },
  {
   "cell_type": "code",
   "execution_count": 95,
   "id": "4ff930b4-246e-45d7-a0b0-b3f4c06d3558",
   "metadata": {},
   "outputs": [
    {
     "data": {
      "text/html": [
       "<div>\n",
       "<style scoped>\n",
       "    .dataframe tbody tr th:only-of-type {\n",
       "        vertical-align: middle;\n",
       "    }\n",
       "\n",
       "    .dataframe tbody tr th {\n",
       "        vertical-align: top;\n",
       "    }\n",
       "\n",
       "    .dataframe thead th {\n",
       "        text-align: right;\n",
       "    }\n",
       "</style>\n",
       "<table border=\"1\" class=\"dataframe\">\n",
       "  <thead>\n",
       "    <tr style=\"text-align: right;\">\n",
       "      <th></th>\n",
       "      <th>samples</th>\n",
       "      <th>1007_s_at</th>\n",
       "      <th>1053_at</th>\n",
       "      <th>117_at</th>\n",
       "      <th>121_at</th>\n",
       "      <th>1255_g_at</th>\n",
       "      <th>1294_at</th>\n",
       "      <th>1316_at</th>\n",
       "      <th>1320_at</th>\n",
       "      <th>1405_i_at</th>\n",
       "      <th>...</th>\n",
       "      <th>AFFX-r2-Ec-bioD-3_at</th>\n",
       "      <th>AFFX-r2-Ec-bioD-5_at</th>\n",
       "      <th>AFFX-r2-P1-cre-3_at</th>\n",
       "      <th>AFFX-r2-P1-cre-5_at</th>\n",
       "      <th>AFFX-ThrX-3_at</th>\n",
       "      <th>AFFX-ThrX-5_at</th>\n",
       "      <th>AFFX-ThrX-M_at</th>\n",
       "      <th>AFFX-TrpnX-3_at</th>\n",
       "      <th>AFFX-TrpnX-5_at</th>\n",
       "      <th>AFFX-TrpnX-M_at</th>\n",
       "    </tr>\n",
       "    <tr>\n",
       "      <th>type</th>\n",
       "      <th></th>\n",
       "      <th></th>\n",
       "      <th></th>\n",
       "      <th></th>\n",
       "      <th></th>\n",
       "      <th></th>\n",
       "      <th></th>\n",
       "      <th></th>\n",
       "      <th></th>\n",
       "      <th></th>\n",
       "      <th></th>\n",
       "      <th></th>\n",
       "      <th></th>\n",
       "      <th></th>\n",
       "      <th></th>\n",
       "      <th></th>\n",
       "      <th></th>\n",
       "      <th></th>\n",
       "      <th></th>\n",
       "      <th></th>\n",
       "      <th></th>\n",
       "    </tr>\n",
       "  </thead>\n",
       "  <tbody>\n",
       "    <tr>\n",
       "      <th>HER</th>\n",
       "      <td>30</td>\n",
       "      <td>30</td>\n",
       "      <td>30</td>\n",
       "      <td>30</td>\n",
       "      <td>30</td>\n",
       "      <td>30</td>\n",
       "      <td>30</td>\n",
       "      <td>30</td>\n",
       "      <td>30</td>\n",
       "      <td>30</td>\n",
       "      <td>...</td>\n",
       "      <td>30</td>\n",
       "      <td>30</td>\n",
       "      <td>30</td>\n",
       "      <td>30</td>\n",
       "      <td>30</td>\n",
       "      <td>30</td>\n",
       "      <td>30</td>\n",
       "      <td>30</td>\n",
       "      <td>30</td>\n",
       "      <td>30</td>\n",
       "    </tr>\n",
       "    <tr>\n",
       "      <th>basal</th>\n",
       "      <td>41</td>\n",
       "      <td>41</td>\n",
       "      <td>41</td>\n",
       "      <td>41</td>\n",
       "      <td>41</td>\n",
       "      <td>41</td>\n",
       "      <td>41</td>\n",
       "      <td>41</td>\n",
       "      <td>41</td>\n",
       "      <td>41</td>\n",
       "      <td>...</td>\n",
       "      <td>41</td>\n",
       "      <td>41</td>\n",
       "      <td>41</td>\n",
       "      <td>41</td>\n",
       "      <td>41</td>\n",
       "      <td>41</td>\n",
       "      <td>41</td>\n",
       "      <td>41</td>\n",
       "      <td>41</td>\n",
       "      <td>41</td>\n",
       "    </tr>\n",
       "    <tr>\n",
       "      <th>cell_line</th>\n",
       "      <td>14</td>\n",
       "      <td>14</td>\n",
       "      <td>14</td>\n",
       "      <td>14</td>\n",
       "      <td>14</td>\n",
       "      <td>14</td>\n",
       "      <td>14</td>\n",
       "      <td>14</td>\n",
       "      <td>14</td>\n",
       "      <td>14</td>\n",
       "      <td>...</td>\n",
       "      <td>14</td>\n",
       "      <td>14</td>\n",
       "      <td>14</td>\n",
       "      <td>14</td>\n",
       "      <td>14</td>\n",
       "      <td>14</td>\n",
       "      <td>14</td>\n",
       "      <td>14</td>\n",
       "      <td>14</td>\n",
       "      <td>14</td>\n",
       "    </tr>\n",
       "    <tr>\n",
       "      <th>luminal_A</th>\n",
       "      <td>29</td>\n",
       "      <td>29</td>\n",
       "      <td>29</td>\n",
       "      <td>29</td>\n",
       "      <td>29</td>\n",
       "      <td>29</td>\n",
       "      <td>29</td>\n",
       "      <td>29</td>\n",
       "      <td>29</td>\n",
       "      <td>29</td>\n",
       "      <td>...</td>\n",
       "      <td>29</td>\n",
       "      <td>29</td>\n",
       "      <td>29</td>\n",
       "      <td>29</td>\n",
       "      <td>29</td>\n",
       "      <td>29</td>\n",
       "      <td>29</td>\n",
       "      <td>29</td>\n",
       "      <td>29</td>\n",
       "      <td>29</td>\n",
       "    </tr>\n",
       "    <tr>\n",
       "      <th>luminal_B</th>\n",
       "      <td>30</td>\n",
       "      <td>30</td>\n",
       "      <td>30</td>\n",
       "      <td>30</td>\n",
       "      <td>30</td>\n",
       "      <td>30</td>\n",
       "      <td>30</td>\n",
       "      <td>30</td>\n",
       "      <td>30</td>\n",
       "      <td>30</td>\n",
       "      <td>...</td>\n",
       "      <td>30</td>\n",
       "      <td>30</td>\n",
       "      <td>30</td>\n",
       "      <td>30</td>\n",
       "      <td>30</td>\n",
       "      <td>30</td>\n",
       "      <td>30</td>\n",
       "      <td>30</td>\n",
       "      <td>30</td>\n",
       "      <td>30</td>\n",
       "    </tr>\n",
       "    <tr>\n",
       "      <th>normal</th>\n",
       "      <td>7</td>\n",
       "      <td>7</td>\n",
       "      <td>7</td>\n",
       "      <td>7</td>\n",
       "      <td>7</td>\n",
       "      <td>7</td>\n",
       "      <td>7</td>\n",
       "      <td>7</td>\n",
       "      <td>7</td>\n",
       "      <td>7</td>\n",
       "      <td>...</td>\n",
       "      <td>7</td>\n",
       "      <td>7</td>\n",
       "      <td>7</td>\n",
       "      <td>7</td>\n",
       "      <td>7</td>\n",
       "      <td>7</td>\n",
       "      <td>7</td>\n",
       "      <td>7</td>\n",
       "      <td>7</td>\n",
       "      <td>7</td>\n",
       "    </tr>\n",
       "  </tbody>\n",
       "</table>\n",
       "<p>6 rows × 54676 columns</p>\n",
       "</div>"
      ],
      "text/plain": [
       "           samples  1007_s_at  1053_at  117_at  121_at  1255_g_at  1294_at  \\\n",
       "type                                                                         \n",
       "HER             30         30       30      30      30         30       30   \n",
       "basal           41         41       41      41      41         41       41   \n",
       "cell_line       14         14       14      14      14         14       14   \n",
       "luminal_A       29         29       29      29      29         29       29   \n",
       "luminal_B       30         30       30      30      30         30       30   \n",
       "normal           7          7        7       7       7          7        7   \n",
       "\n",
       "           1316_at  1320_at  1405_i_at  ...  AFFX-r2-Ec-bioD-3_at  \\\n",
       "type                                    ...                         \n",
       "HER             30       30         30  ...                    30   \n",
       "basal           41       41         41  ...                    41   \n",
       "cell_line       14       14         14  ...                    14   \n",
       "luminal_A       29       29         29  ...                    29   \n",
       "luminal_B       30       30         30  ...                    30   \n",
       "normal           7        7          7  ...                     7   \n",
       "\n",
       "           AFFX-r2-Ec-bioD-5_at  AFFX-r2-P1-cre-3_at  AFFX-r2-P1-cre-5_at  \\\n",
       "type                                                                        \n",
       "HER                          30                   30                   30   \n",
       "basal                        41                   41                   41   \n",
       "cell_line                    14                   14                   14   \n",
       "luminal_A                    29                   29                   29   \n",
       "luminal_B                    30                   30                   30   \n",
       "normal                        7                    7                    7   \n",
       "\n",
       "           AFFX-ThrX-3_at  AFFX-ThrX-5_at  AFFX-ThrX-M_at  AFFX-TrpnX-3_at  \\\n",
       "type                                                                         \n",
       "HER                    30              30              30               30   \n",
       "basal                  41              41              41               41   \n",
       "cell_line              14              14              14               14   \n",
       "luminal_A              29              29              29               29   \n",
       "luminal_B              30              30              30               30   \n",
       "normal                  7               7               7                7   \n",
       "\n",
       "           AFFX-TrpnX-5_at  AFFX-TrpnX-M_at  \n",
       "type                                         \n",
       "HER                     30               30  \n",
       "basal                   41               41  \n",
       "cell_line               14               14  \n",
       "luminal_A               29               29  \n",
       "luminal_B               30               30  \n",
       "normal                   7                7  \n",
       "\n",
       "[6 rows x 54676 columns]"
      ]
     },
     "execution_count": 95,
     "metadata": {},
     "output_type": "execute_result"
    }
   ],
   "source": [
    "data.groupby(\"type\").count()"
   ]
  },
  {
   "cell_type": "code",
   "execution_count": 96,
   "id": "483688d6-a76d-4f51-995b-5f0409510f47",
   "metadata": {},
   "outputs": [
    {
     "name": "stdout",
     "output_type": "stream",
     "text": [
      "basal        41\n",
      "HER          30\n",
      "luminal_B    30\n",
      "luminal_A    29\n",
      "cell_line    14\n",
      "normal        7\n",
      "Name: type, dtype: int64 \n",
      "\n",
      "\n"
     ]
    },
    {
     "data": {
      "image/png": "[encoded data removed]",
      "text/plain": [
       "<Figure size 1080x360 with 2 Axes>"
      ]
     },
     "metadata": {
      "needs_background": "light"
     },
     "output_type": "display_data"
    }
   ],
   "source": [
    "target  = \"type\"\n",
    "\n",
    "val_counts = data[target].value_counts()\n",
    "print(val_counts, \"\\n\\n\")\n",
    "\n",
    "plt.figure(figsize = (15, 5))\n",
    "plt.subplot(1, 2, 1)\n",
    "sns.countplot(x = data[target])\n",
    "\n",
    "plt.subplot(1, 2, 2)\n",
    "plt.pie(val_counts, labels = val_counts.keys(), autopct = \"%.2f%%\")\n",
    "\n",
    "plt.tight_layout()\n",
    "plt.show()"
   ]
  },
  {
   "cell_type": "code",
   "execution_count": 97,
   "id": "11061723-b008-4216-af53-d91077eaa3a0",
   "metadata": {},
   "outputs": [],
   "source": [
    "#Encoding categorical feature(s) (Ordinal Encoding)\n",
    "\n",
    "class_map = {\"normal\": 0, \"cell_line\": 1, \"luminal_A\": 2, \"luminal_B\": 3, \"HER\": 4, \"basal\": 5}\n",
    "class_map_reverse = {m : n for m, n in zip(class_map.values(), class_map.keys())}\n",
    "\n",
    "encoder = category_encoders.OrdinalEncoder(cols = [target], mapping = [{\"col\": target, \"mapping\": class_map}])\n",
    "\n",
    "data['type'] = encoder.fit_transform(data[target])"
   ]
  },
  {
   "cell_type": "code",
   "execution_count": 98,
   "id": "42d2b2f6-fc1d-4d60-b886-7df0bafdc826",
   "metadata": {},
   "outputs": [
    {
     "data": {
      "text/html": [
       "<div>\n",
       "<style scoped>\n",
       "    .dataframe tbody tr th:only-of-type {\n",
       "        vertical-align: middle;\n",
       "    }\n",
       "\n",
       "    .dataframe tbody tr th {\n",
       "        vertical-align: top;\n",
       "    }\n",
       "\n",
       "    .dataframe thead th {\n",
       "        text-align: right;\n",
       "    }\n",
       "</style>\n",
       "<table border=\"1\" class=\"dataframe\">\n",
       "  <thead>\n",
       "    <tr style=\"text-align: right;\">\n",
       "      <th></th>\n",
       "      <th>samples</th>\n",
       "      <th>type</th>\n",
       "      <th>1007_s_at</th>\n",
       "      <th>1053_at</th>\n",
       "      <th>117_at</th>\n",
       "      <th>121_at</th>\n",
       "      <th>1255_g_at</th>\n",
       "      <th>1294_at</th>\n",
       "      <th>1316_at</th>\n",
       "      <th>1320_at</th>\n",
       "      <th>...</th>\n",
       "      <th>AFFX-r2-Ec-bioD-3_at</th>\n",
       "      <th>AFFX-r2-Ec-bioD-5_at</th>\n",
       "      <th>AFFX-r2-P1-cre-3_at</th>\n",
       "      <th>AFFX-r2-P1-cre-5_at</th>\n",
       "      <th>AFFX-ThrX-3_at</th>\n",
       "      <th>AFFX-ThrX-5_at</th>\n",
       "      <th>AFFX-ThrX-M_at</th>\n",
       "      <th>AFFX-TrpnX-3_at</th>\n",
       "      <th>AFFX-TrpnX-5_at</th>\n",
       "      <th>AFFX-TrpnX-M_at</th>\n",
       "    </tr>\n",
       "  </thead>\n",
       "  <tbody>\n",
       "    <tr>\n",
       "      <th>0</th>\n",
       "      <td>84</td>\n",
       "      <td>5</td>\n",
       "      <td>9.850040</td>\n",
       "      <td>8.097927</td>\n",
       "      <td>6.424728</td>\n",
       "      <td>7.353027</td>\n",
       "      <td>3.029122</td>\n",
       "      <td>6.880079</td>\n",
       "      <td>4.963740</td>\n",
       "      <td>4.408328</td>\n",
       "      <td>...</td>\n",
       "      <td>12.229711</td>\n",
       "      <td>11.852955</td>\n",
       "      <td>13.658701</td>\n",
       "      <td>13.477698</td>\n",
       "      <td>6.265781</td>\n",
       "      <td>5.016196</td>\n",
       "      <td>4.901594</td>\n",
       "      <td>2.966657</td>\n",
       "      <td>3.508495</td>\n",
       "      <td>3.301999</td>\n",
       "    </tr>\n",
       "    <tr>\n",
       "      <th>1</th>\n",
       "      <td>85</td>\n",
       "      <td>5</td>\n",
       "      <td>9.861357</td>\n",
       "      <td>8.212222</td>\n",
       "      <td>7.062593</td>\n",
       "      <td>7.685578</td>\n",
       "      <td>3.149468</td>\n",
       "      <td>7.542283</td>\n",
       "      <td>5.129607</td>\n",
       "      <td>4.584418</td>\n",
       "      <td>...</td>\n",
       "      <td>12.178531</td>\n",
       "      <td>11.809408</td>\n",
       "      <td>13.750086</td>\n",
       "      <td>13.470146</td>\n",
       "      <td>6.771853</td>\n",
       "      <td>5.291005</td>\n",
       "      <td>5.405839</td>\n",
       "      <td>2.934763</td>\n",
       "      <td>3.687666</td>\n",
       "      <td>3.064299</td>\n",
       "    </tr>\n",
       "    <tr>\n",
       "      <th>2</th>\n",
       "      <td>87</td>\n",
       "      <td>5</td>\n",
       "      <td>10.103478</td>\n",
       "      <td>8.936137</td>\n",
       "      <td>5.735970</td>\n",
       "      <td>7.687822</td>\n",
       "      <td>3.125931</td>\n",
       "      <td>6.562369</td>\n",
       "      <td>4.813449</td>\n",
       "      <td>4.425195</td>\n",
       "      <td>...</td>\n",
       "      <td>12.125108</td>\n",
       "      <td>11.725766</td>\n",
       "      <td>13.621732</td>\n",
       "      <td>13.295080</td>\n",
       "      <td>6.346952</td>\n",
       "      <td>5.171403</td>\n",
       "      <td>5.184286</td>\n",
       "      <td>2.847684</td>\n",
       "      <td>3.550597</td>\n",
       "      <td>3.158535</td>\n",
       "    </tr>\n",
       "    <tr>\n",
       "      <th>3</th>\n",
       "      <td>90</td>\n",
       "      <td>5</td>\n",
       "      <td>9.756875</td>\n",
       "      <td>7.357148</td>\n",
       "      <td>6.479183</td>\n",
       "      <td>6.986624</td>\n",
       "      <td>3.181638</td>\n",
       "      <td>7.802344</td>\n",
       "      <td>5.490982</td>\n",
       "      <td>4.567956</td>\n",
       "      <td>...</td>\n",
       "      <td>12.111235</td>\n",
       "      <td>11.719215</td>\n",
       "      <td>13.743108</td>\n",
       "      <td>13.508861</td>\n",
       "      <td>6.610284</td>\n",
       "      <td>5.193356</td>\n",
       "      <td>5.086569</td>\n",
       "      <td>3.031602</td>\n",
       "      <td>3.524981</td>\n",
       "      <td>3.272665</td>\n",
       "    </tr>\n",
       "    <tr>\n",
       "      <th>4</th>\n",
       "      <td>91</td>\n",
       "      <td>5</td>\n",
       "      <td>9.408330</td>\n",
       "      <td>7.746404</td>\n",
       "      <td>6.693980</td>\n",
       "      <td>7.333426</td>\n",
       "      <td>3.169923</td>\n",
       "      <td>7.610457</td>\n",
       "      <td>5.372469</td>\n",
       "      <td>4.424426</td>\n",
       "      <td>...</td>\n",
       "      <td>12.173642</td>\n",
       "      <td>11.861296</td>\n",
       "      <td>13.797774</td>\n",
       "      <td>13.542206</td>\n",
       "      <td>6.414354</td>\n",
       "      <td>5.040202</td>\n",
       "      <td>5.235318</td>\n",
       "      <td>2.956232</td>\n",
       "      <td>3.445501</td>\n",
       "      <td>3.193947</td>\n",
       "    </tr>\n",
       "  </tbody>\n",
       "</table>\n",
       "<p>5 rows × 54677 columns</p>\n",
       "</div>"
      ],
      "text/plain": [
       "   samples  type  1007_s_at   1053_at    117_at    121_at  1255_g_at  \\\n",
       "0       84     5   9.850040  8.097927  6.424728  7.353027   3.029122   \n",
       "1       85     5   9.861357  8.212222  7.062593  7.685578   3.149468   \n",
       "2       87     5  10.103478  8.936137  5.735970  7.687822   3.125931   \n",
       "3       90     5   9.756875  7.357148  6.479183  6.986624   3.181638   \n",
       "4       91     5   9.408330  7.746404  6.693980  7.333426   3.169923   \n",
       "\n",
       "    1294_at   1316_at   1320_at  ...  AFFX-r2-Ec-bioD-3_at  \\\n",
       "0  6.880079  4.963740  4.408328  ...             12.229711   \n",
       "1  7.542283  5.129607  4.584418  ...             12.178531   \n",
       "2  6.562369  4.813449  4.425195  ...             12.125108   \n",
       "3  7.802344  5.490982  4.567956  ...             12.111235   \n",
       "4  7.610457  5.372469  4.424426  ...             12.173642   \n",
       "\n",
       "   AFFX-r2-Ec-bioD-5_at  AFFX-r2-P1-cre-3_at  AFFX-r2-P1-cre-5_at  \\\n",
       "0             11.852955            13.658701            13.477698   \n",
       "1             11.809408            13.750086            13.470146   \n",
       "2             11.725766            13.621732            13.295080   \n",
       "3             11.719215            13.743108            13.508861   \n",
       "4             11.861296            13.797774            13.542206   \n",
       "\n",
       "   AFFX-ThrX-3_at  AFFX-ThrX-5_at  AFFX-ThrX-M_at  AFFX-TrpnX-3_at  \\\n",
       "0        6.265781        5.016196        4.901594         2.966657   \n",
       "1        6.771853        5.291005        5.405839         2.934763   \n",
       "2        6.346952        5.171403        5.184286         2.847684   \n",
       "3        6.610284        5.193356        5.086569         3.031602   \n",
       "4        6.414354        5.040202        5.235318         2.956232   \n",
       "\n",
       "   AFFX-TrpnX-5_at  AFFX-TrpnX-M_at  \n",
       "0         3.508495         3.301999  \n",
       "1         3.687666         3.064299  \n",
       "2         3.550597         3.158535  \n",
       "3         3.524981         3.272665  \n",
       "4         3.445501         3.193947  \n",
       "\n",
       "[5 rows x 54677 columns]"
      ]
     },
     "execution_count": 98,
     "metadata": {},
     "output_type": "execute_result"
    }
   ],
   "source": [
    "data.head()"
   ]
  },
  {
   "cell_type": "code",
   "execution_count": 99,
   "id": "b715c2d3-235e-4148-824c-4bab85b7d3fe",
   "metadata": {},
   "outputs": [],
   "source": [
    "# Separate features (gene expression values) and target variable (sample type)\n",
    "X = data.drop(['samples', 'type'], axis=1)\n",
    "y = data['type']\n"
   ]
  },
  {
   "cell_type": "code",
   "execution_count": 100,
   "id": "98df2ccc-97ad-4060-bed9-37e191f33662",
   "metadata": {},
   "outputs": [
    {
     "name": "stdout",
     "output_type": "stream",
     "text": [
      "(151, 54675) (151,)\n"
     ]
    }
   ],
   "source": [
    "print(X.shape, y.shape)"
   ]
  },
  {
   "cell_type": "code",
   "execution_count": 101,
   "id": "880f4c2e-2775-4ca7-8ff7-c52fb1764ca7",
   "metadata": {},
   "outputs": [],
   "source": [
    "# Normalize gene expression data using Z-score normalization\n",
    "scaler = StandardScaler()\n",
    "X_normalized = scaler.fit_transform(X)"
   ]
  },
  {
   "cell_type": "code",
   "execution_count": 102,
   "id": "ef890da8-28a0-46e3-a469-edf5a7aaf5fb",
   "metadata": {},
   "outputs": [],
   "source": [
    "# Perform t-test for feature selection\n",
    "t_scores, p_values = ttest_ind(X_normalized, y, axis=0)\n",
    "\n",
    "# Select top-m genes with the largest T-statistic\n",
    "m = 1000  # Number of top genes to select\n",
    "selected_genes_indices = (-t_scores).argsort()[:m]\n",
    "selected_features = X.columns[selected_genes_indices]\n",
    "\n",
    "# Filter dataset to include only selected features\n",
    "X_selected = X[selected_features]"
   ]
  },
  {
   "cell_type": "code",
   "execution_count": 103,
   "id": "d0e2f484-3998-4150-a43f-f71084b3e5d1",
   "metadata": {},
   "outputs": [],
   "source": [
    "# Split dataset into training and testing sets\n",
    "X_train, X_test, y_train, y_test = train_test_split(X_selected, y, test_size=0.2, random_state=42)"
   ]
  },
  {
   "cell_type": "code",
   "execution_count": 104,
   "id": "2ce32933-c11f-4eb5-b47e-945d68a08bf5",
   "metadata": {},
   "outputs": [
    {
     "data": {
      "image/png": "[encoded data removed]",
      "text/plain": [
       "<Figure size 576x432 with 1 Axes>"
      ]
     },
     "metadata": {
      "needs_background": "light"
     },
     "output_type": "display_data"
    }
   ],
   "source": [
    "# Visualization (example: PCA plot)\n",
    "# Note: Visualization depends on the dimensionality reduction technique used\n",
    "# For simplicity, let's assume PCA here\n",
    "from sklearn.decomposition import PCA\n",
    "\n",
    "pca = PCA(n_components=2)\n",
    "X_pca = pca.fit_transform(X_train)\n",
    "\n",
    "plt.figure(figsize=(8, 6))\n",
    "for target in data['type'].unique():\n",
    "    plt.scatter(X_pca[y_train == target, 0], X_pca[y_train == target, 1], label=target)\n",
    "plt.xlabel('Principal Component 1')\n",
    "plt.ylabel('Principal Component 2')\n",
    "plt.title('PCA Plot of Gene Expression Data')\n",
    "plt.legend()\n",
    "plt.savefig(\"pca.png\")\n",
    "plt.show()"
   ]
  },
  {
   "cell_type": "code",
   "execution_count": 105,
   "id": "354051d7",
   "metadata": {},
   "outputs": [
    {
     "name": "stderr",
     "output_type": "stream",
     "text": [
      "/home/thetruehooha/.venvs/vimJupy/lib/python3.10/site-packages/sklearn/manifold/_t_sne.py:800: FutureWarning: The default initialization in TSNE will change from 'random' to 'pca' in 1.2.\n",
      "  warnings.warn(\n",
      "/home/thetruehooha/.venvs/vimJupy/lib/python3.10/site-packages/sklearn/manifold/_t_sne.py:810: FutureWarning: The default learning rate in TSNE will change from 200.0 to 'auto' in 1.2.\n",
      "  warnings.warn(\n"
     ]
    },
    {
     "data": {
      "image/png": "[encoded data removed]",
      "text/plain": [
       "<Figure size 576x432 with 1 Axes>"
      ]
     },
     "metadata": {
      "needs_background": "light"
     },
     "output_type": "display_data"
    }
   ],
   "source": [
    "# Visualization using t-SNE\n",
    "tsne = TSNE(n_components=2, random_state=42)\n",
    "X_tsne = tsne.fit_transform(X_train)\n",
    "\n",
    "plt.figure(figsize=(8, 6))\n",
    "for target in data['type'].unique():\n",
    "    plt.scatter(X_tsne[y_train == target, 0], X_tsne[y_train == target, 1], label=target)\n",
    "plt.xlabel('t-SNE Component 1')\n",
    "plt.ylabel('t-SNE Component 2')\n",
    "plt.title('t-SNE Plot of Gene Expression Data')\n",
    "plt.legend()\n",
    "plt.savefig(\"tsne.png\")\n",
    "plt.show()"
   ]
  },
  {
   "cell_type": "code",
   "execution_count": 66,
   "id": "d424b445",
   "metadata": {},
   "outputs": [
    {
     "name": "stdout",
     "output_type": "stream",
     "text": [
      " [ 1000 / 1000 ] 100% - 0:00:00 left \n",
      " quantization error: 122.29740891099884\n"
     ]
    },
    {
     "data": {
      "image/png": "[encoded data removed]",
      "text/plain": [
       "<Figure size 576x432 with 1 Axes>"
      ]
     },
     "metadata": {
      "needs_background": "light"
     },
     "output_type": "display_data"
    }
   ],
   "source": [
    "# Visualization using Self-Organizing Feature Maps (SOFM)\n",
    "som = minisom.MiniSom(10, 10, X_normalized.shape[1], sigma=1.0, learning_rate=0.5)\n",
    "som.train_batch(X_normalized, 1000, verbose=True)\n",
    "\n",
    "plt.figure(figsize=(8, 6))\n",
    "for target in data['type'].unique():\n",
    "    plt.scatter(X_normalized[y == target, 0], X_normalized[y == target, 1], label=target)\n",
    "plt.xlabel('SOFM Component 1')\n",
    "plt.ylabel('SOFM Component 2')\n",
    "plt.title('SOFM Plot of Gene Expression Data')\n",
    "plt.legend()\n",
    "plt.savefig(\"sofm.png\")\n",
    "plt.show()"
   ]
  },
  {
   "cell_type": "code",
   "execution_count": 49,
   "id": "e70a4022",
   "metadata": {},
   "outputs": [],
   "source": [
    "# Split dataset into training and testing sets\n",
    "X_train, X_test, y_train, y_test = train_test_split(X_normalized, y, test_size=0.2, random_state=42)"
   ]
  },
  {
   "cell_type": "code",
   "execution_count": 50,
   "id": "260ff247-5e24-4ea3-b740-1dc0bc7ac042",
   "metadata": {},
   "outputs": [
    {
     "name": "stdout",
     "output_type": "stream",
     "text": [
      "Accuracy: 0.6774193548387096\n",
      "              precision    recall  f1-score   support\n",
      "\n",
      "           0       1.00      1.00      1.00         1\n",
      "           1       1.00      1.00      1.00         5\n",
      "           2       0.30      1.00      0.46         3\n",
      "           3       1.00      0.14      0.25         7\n",
      "           4       0.62      1.00      0.77         5\n",
      "           5       1.00      0.60      0.75        10\n",
      "\n",
      "    accuracy                           0.68        31\n",
      "   macro avg       0.82      0.79      0.71        31\n",
      "weighted avg       0.87      0.68      0.66        31\n",
      "\n"
     ]
    }
   ],
   "source": [
    "# Train K-Nearest Neighbors classifier\n",
    "knn = KNeighborsClassifier(n_neighbors=3)\n",
    "knn.fit(X_train, y_train)\n",
    "\n",
    "# Make predictions\n",
    "y_pred = knn.predict(X_test)\n",
    "\n",
    "# Evaluate performance\n",
    "accuracy = accuracy_score(y_test, y_pred)\n",
    "print(\"Accuracy:\", accuracy)\n",
    "print(classification_report(y_test, y_pred))"
   ]
  },
  {
   "cell_type": "code",
   "execution_count": 51,
   "id": "a32732d6",
   "metadata": {},
   "outputs": [
    {
     "name": "stdout",
     "output_type": "stream",
     "text": [
      "Accuracy: 0.9032258064516129\n",
      "              precision    recall  f1-score   support\n",
      "\n",
      "           0       1.00      1.00      1.00         1\n",
      "           1       1.00      1.00      1.00         5\n",
      "           2       1.00      1.00      1.00         3\n",
      "           3       1.00      1.00      1.00         7\n",
      "           4       0.62      1.00      0.77         5\n",
      "           5       1.00      0.70      0.82        10\n",
      "\n",
      "    accuracy                           0.90        31\n",
      "   macro avg       0.94      0.95      0.93        31\n",
      "weighted avg       0.94      0.90      0.91        31\n",
      "\n"
     ]
    }
   ],
   "source": [
    "# Train Support Vector Machines\n",
    "svm = SVC(kernel='linear')\n",
    "svm.fit(X_train, y_train)\n",
    "\n",
    "# Make predictions\n",
    "y_pred = svm.predict(X_test)\n",
    "\n",
    "# Evaluate performance\n",
    "accuracy = accuracy_score(y_test, y_pred)\n",
    "print(\"Accuracy:\", accuracy)\n",
    "print(classification_report(y_test, y_pred))"
   ]
  },
  {
   "cell_type": "code",
   "execution_count": 52,
   "id": "c4f20f6c",
   "metadata": {},
   "outputs": [
    {
     "name": "stdout",
     "output_type": "stream",
     "text": [
      "Accuracy: 0.9032258064516129\n",
      "              precision    recall  f1-score   support\n",
      "\n",
      "           0       1.00      1.00      1.00         1\n",
      "           1       1.00      1.00      1.00         5\n",
      "           2       1.00      1.00      1.00         3\n",
      "           3       1.00      1.00      1.00         7\n",
      "           4       0.62      1.00      0.77         5\n",
      "           5       1.00      0.70      0.82        10\n",
      "\n",
      "    accuracy                           0.90        31\n",
      "   macro avg       0.94      0.95      0.93        31\n",
      "weighted avg       0.94      0.90      0.91        31\n",
      "\n"
     ]
    }
   ],
   "source": [
    "# Train Random Forest classifier\n",
    "rf = RandomForestClassifier(n_estimators=100, random_state=42)\n",
    "rf.fit(X_train, y_train)\n",
    "\n",
    "# Make predictions\n",
    "y_pred = rf.predict(X_test)\n",
    "\n",
    "# Evaluate performance\n",
    "accuracy = accuracy_score(y_test, y_pred)\n",
    "print(\"Accuracy:\", accuracy)\n",
    "print(classification_report(y_test, y_pred))"
   ]
  },
  {
   "cell_type": "code",
   "execution_count": 53,
   "id": "135ff709",
   "metadata": {},
   "outputs": [],
   "source": [
    "# # Define fitness function\n",
    "# def fitness_function(selected_features):\n",
    "#     # Convert selected_features to 1D array\n",
    "#     selected_features = np.ravel(selected_features)\n",
    "    \n",
    "#     # Train classifier using selected features\n",
    "#     X_selected = X.iloc[:, selected_features]\n",
    "#     X_train, X_test, y_train, y_test = train_test_split(X_selected, y, test_size=0.2, random_state=42)\n",
    "#     knn = KNeighborsClassifier(n_neighbors=5)\n",
    "#     knn.fit(X_train, y_train)\n",
    "#     y_pred = knn.predict(X_test)\n",
    "#     accuracy = accuracy_score(y_test, y_pred)\n",
    "#     return -accuracy  # Minimize 1-accuracy (i.e., maximize accuracy)"
   ]
  },
  {
   "cell_type": "code",
   "execution_count": 54,
   "id": "7777206c",
   "metadata": {},
   "outputs": [],
   "source": [
    "# Define fitness function\n",
    "def fitness_function(particle):\n",
    "    # Extract selected features == 1\n",
    "    selected_features_indices = np.nonzero(particle == 1)[0]\n",
    "    \n",
    "    # Train classifier using selected features\n",
    "    if selected_features_indices.size == 0:\n",
    "        return 0\n",
    "    X_selected = X.iloc[:, selected_features_indices]\n",
    "    X_train, X_test, y_train, y_test = train_test_split(X_selected, y, test_size=0.2, random_state=42)\n",
    "    # rf = RandomForestClassifier(n_estimators=100, random_state=42)\n",
    "    # rf.fit(X_train, y_train)\n",
    "    knn = KNeighborsClassifier(n_neighbors=3)\n",
    "    knn.fit(X_train, y_train)\n",
    "    y_pred = knn.predict(X_test)\n",
    "    accuracy = accuracy_score(y_test, y_pred)\n",
    "    return -accuracy  # Minimize 1-accuracy (i.e., maximize accuracy)"
   ]
  },
  {
   "cell_type": "markdown",
   "id": "89d983bb",
   "metadata": {},
   "source": [
    "# PySwarms"
   ]
  },
  {
   "cell_type": "code",
   "execution_count": 55,
   "id": "a34bf09c-833a-4c81-80f5-4b038d74b7cc",
   "metadata": {},
   "outputs": [],
   "source": [
    "# # Define PSO parameters\n",
    "# num_particles = 10\n",
    "# num_features = X.shape[1]\n",
    "# options = {'c1': 0.5, 'c2': 0.3, 'w': 0.9}\n",
    "\n",
    "# # Initialize PSO optimizer\n",
    "# optimizer = ps.single.GlobalBestPSO(n_particles=num_particles, dimensions=num_features, options=options)\n",
    "\n",
    "# # Perform PSO optimization\n",
    "# best_position, _ = optimizer.optimize(fitness_function, iters=100)\n",
    "\n",
    "# # Extract selected features\n",
    "# selected_features_indices = np.where(best_position == 1)[0]\n",
    "# selected_features = X.columns[selected_features_indices]\n",
    "\n",
    "# print(\"Selected Features:\", selected_features)"
   ]
  },
  {
   "cell_type": "markdown",
   "id": "86ee4730",
   "metadata": {},
   "source": [
    "# Scikit-opt"
   ]
  },
  {
   "cell_type": "markdown",
   "id": "93e105f9",
   "metadata": {},
   "source": [
    "## PSO"
   ]
  },
  {
   "cell_type": "code",
   "execution_count": 59,
   "id": "43cd50a4",
   "metadata": {},
   "outputs": [
    {
     "name": "stdout",
     "output_type": "stream",
     "text": [
      "Swarming...\n"
     ]
    },
    {
     "name": "stderr",
     "output_type": "stream",
     "text": []
    },
    {
     "name": "stderr",
     "output_type": "stream",
     "text": [
      "Iter: 10 | Best fit: [-0.90322581] at [0.48649261 0.98802295 0.         ... 0.61363324 0.63022548 0.        ]: 100%|██████████| 10/10 [00:44<00:00,  4.41s/it]"
     ]
    },
    {
     "name": "stdout",
     "output_type": "stream",
     "text": [
      "best_x is  [0.48649261 0.98802295 0.         ... 0.61363324 0.63022548 0.        ] best_y is [-0.90322581]\n"
     ]
    },
    {
     "name": "stderr",
     "output_type": "stream",
     "text": [
      "\n"
     ]
    },
    {
     "data": {
      "image/png": "[encoded data removed]",
      "text/plain": [
       "<Figure size 432x288 with 1 Axes>"
      ]
     },
     "metadata": {
      "needs_background": "light"
     },
     "output_type": "display_data"
    }
   ],
   "source": [
    "# Do PSO\n",
    "from sko.PSO import PSO\n",
    "\n",
    "# parameters: n_dim, pop, max_iter, w, c1, c2\n",
    "n_dim = X_normalized.shape[1]\n",
    "pop = 30\n",
    "max_iter = 10\n",
    "lb = [0] * n_dim\n",
    "ub = [1] * n_dim\n",
    "w = 0.65\n",
    "c1 = 1.7\n",
    "c2 = 1.7\n",
    "\n",
    "# initialize PSO\n",
    "pso = PSO(func=fitness_function, n_dim=n_dim, pop=pop, max_iter=max_iter, lb=lb, ub=ub, w=w, c1=c1, c2=c2, n_processes=os.cpu_count())\n",
    "\n",
    "# run the PSO\n",
    "pso.run()\n",
    "print('best_x is ', pso.gbest_x, 'best_y is', pso.gbest_y)\n",
    "\n",
    "# Plot the result\n",
    "plt.plot(pso.gbest_y_hist)\n",
    "plt.show()"
   ]
  },
  {
   "cell_type": "code",
   "execution_count": 68,
   "id": "81cada00",
   "metadata": {},
   "outputs": [
    {
     "name": "stdout",
     "output_type": "stream",
     "text": [
      "Selected Features: Index(['1552257_a_at', '1552271_at', '1552296_at', '1552310_at',\n",
      "       '1552319_a_at', '1552343_s_at', '1552364_s_at', '1552381_at',\n",
      "       '1552439_s_at', '1552457_a_at',\n",
      "       ...\n",
      "       '65585_at', '81811_at', '89476_r_at', '89948_at', '91703_at',\n",
      "       'AFFX-hum_alu_at', 'AFFX-M27830_3_at', 'AFFX-r2-Bs-lys-3_at',\n",
      "       'AFFX-r2-Bs-phe-3_at', 'AFFX-r2-Ec-bioB-M_at'],\n",
      "      dtype='object', length=5554)\n",
      "Number of Selected Features: 5554 out of 54675 features ( 10.16 %)\n"
     ]
    }
   ],
   "source": [
    "# Extract selected features == 1\n",
    "selected_features_indices = np.nonzero(pso.gbest_x == 1)[0]\n",
    "selected_features = X.columns[selected_features_indices]\n",
    "\n",
    "print(\"Selected Features:\", selected_features)\n",
    "print(\"Number of Selected Features:\", len(selected_features), \"out of\", X.shape[1], \"features (\", np.round(len(selected_features) / X.shape[1] * 100, 2), \"%)\")"
   ]
  },
  {
   "cell_type": "code",
   "execution_count": 67,
   "id": "bb26fe28-fac1-4f9c-bdbf-9ed6affdb321",
   "metadata": {},
   "outputs": [
    {
     "name": "stdout",
     "output_type": "stream",
     "text": [
      "Accuracy of KNN classifier using selected features: 0.9032258064516129\n"
     ]
    }
   ],
   "source": [
    "# Train K-Nearest Neighbors classifier using selected features\n",
    "X_selected = X.iloc[:, selected_features_indices]\n",
    "X_train, X_test, y_train, y_test = train_test_split(X_selected, y, test_size=0.2, random_state=42)\n",
    "knn = KNeighborsClassifier(n_neighbors=3)\n",
    "knn.fit(X_train, y_train)\n",
    "y_pred = knn.predict(X_test)\n",
    "accuracy = accuracy_score(y_test, y_pred)\n",
    "\n",
    "# Plot accuracy\n",
    "print(\"Accuracy of KNN classifier using selected features:\", accuracy)"
   ]
  },
  {
   "cell_type": "code",
   "execution_count": 69,
   "id": "f321a171",
   "metadata": {},
   "outputs": [
    {
     "name": "stderr",
     "output_type": "stream",
     "text": [
      "/home/thetruehooha/.venvs/vimJupy/lib/python3.10/site-packages/sklearn/manifold/_t_sne.py:800: FutureWarning: The default initialization in TSNE will change from 'random' to 'pca' in 1.2.\n",
      "  warnings.warn(\n",
      "/home/thetruehooha/.venvs/vimJupy/lib/python3.10/site-packages/sklearn/manifold/_t_sne.py:810: FutureWarning: The default learning rate in TSNE will change from 200.0 to 'auto' in 1.2.\n",
      "  warnings.warn(\n"
     ]
    },
    {
     "data": {
      "image/png": "[encoded data removed]",
      "text/plain": [
       "<Figure size 576x432 with 1 Axes>"
      ]
     },
     "metadata": {
      "needs_background": "light"
     },
     "output_type": "display_data"
    }
   ],
   "source": [
    "# T-sne plot with selected features\n",
    "tsne = TSNE(n_components=2, random_state=42)\n",
    "X_tsne = tsne.fit_transform(X_selected)\n",
    "\n",
    "plt.figure(figsize=(8, 6))\n",
    "for target in data['type'].unique():\n",
    "    plt.scatter(X_tsne[y == target, 0], X_tsne[y == target, 1], label=target)\n",
    "plt.xlabel('t-SNE Component 1')\n",
    "plt.ylabel('t-SNE Component 2')\n",
    "plt.title('t-SNE Plot of Gene Expression Data (Selected Features)')\n",
    "plt.legend()\n",
    "plt.savefig(\"tsne_selected_pso.png\")\n",
    "plt.show()"
   ]
  },
  {
   "cell_type": "markdown",
   "id": "7fe70959",
   "metadata": {},
   "source": [
    "## APSO"
   ]
  },
  {
   "cell_type": "code",
   "execution_count": null,
   "id": "0ed1fac6",
   "metadata": {},
   "outputs": [],
   "source": [
    "# do APSO\n",
    "# parameters: n_dim, pop, max_iter, w, c1, c2\n",
    "n_dim = X_selected_normalized.shape[1]\n",
    "pop = 30\n",
    "max_iter = 10\n",
    "lb = [0] * n_dim\n",
    "ub = [1] * n_dim\n",
    "w = 0.65\n",
    "c1 = 1.7\n",
    "c2 = 1.7\n",
    "\n",
    "particles = np.random.uniform(0, 1, (pop, X.shape[1]))\n",
    "velocities = (np.random.random((pop, X.shape[1])) - 0.5) / 10\n",
    "\n",
    "pso_1 = APSO(n_dim = n_dim, particles = particles.copy(), velocities = velocities.copy(), fitness_function = fitness_function, w = w, c_1 = c1, c_2 = c2, lb = lb, ub = ub, max_iter = max_iter, auto_coef = True, n_processes = os.cpu_count())\n",
    "# pso_2 = APSO(particles.copy(), velocities.copy(), fitness_function, w=0.9, c_1=4, c_2=0, max_iter=10, auto_coef=True, n_processes=os.cpu_count())\n",
    "# pso_3 = APSO(particles.copy(), velocities.copy(), fitness_function, w=0.9, c_1=0, c_2=4, max_iter=10, auto_coef=True, n_processes=os.cpu_count())\n",
    "\n",
    "# run pso\n",
    "while pso_1.next():\n",
    "    print('pso_1:', pso_1.g_best_value)"
   ]
  },
  {
   "cell_type": "code",
   "execution_count": null,
   "id": "cced30cc",
   "metadata": {},
   "outputs": [],
   "source": [
    "# print the best results\n",
    "print('PSO 1 best_x is ', pso_1.g_best, 'best_y is', -pso_1.g_best_value*100)\n",
    "# print('PSO 2 best_x is ', pso_2.g_best, 'best_y is', -pso_2.g_best_value*100)\n",
    "# print('PSO 3 best_x is ', pso_3.g_best, 'best_y is', -pso_3.g_best_value*100)"
   ]
  },
  {
   "cell_type": "code",
   "execution_count": null,
   "id": "767aec94",
   "metadata": {},
   "outputs": [
    {
     "name": "stdout",
     "output_type": "stream",
     "text": [
      "[    5     8    10 ... 54669 54671 54674]\n",
      "Selected Features: Index(['1294_at', '1405_i_at', '1438_at', '1552276_a_at', '1552280_at',\n",
      "       '1552281_at', '1552291_at', '1552299_at', '1552309_a_at',\n",
      "       '1552314_a_at',\n",
      "       ...\n",
      "       'AFFX-r2-Bs-dap-3_at', 'AFFX-r2-Bs-dap-M_at', 'AFFX-r2-Bs-phe-M_at',\n",
      "       'AFFX-r2-Bs-thr-M_s_at', 'AFFX-r2-Ec-bioB-M_at', 'AFFX-r2-Ec-bioC-5_at',\n",
      "       'AFFX-r2-P1-cre-3_at', 'AFFX-ThrX-3_at', 'AFFX-ThrX-M_at',\n",
      "       'AFFX-TrpnX-M_at'],\n",
      "      dtype='object', length=11091)\n",
      "Number of Selected Features: 11091 out of 54675 features ( 20.29 %)\n"
     ]
    }
   ],
   "source": [
    "# Extract selected features > 0.9\n",
    "selected_features_indices = np.nonzero(pso_1.g_best > 2.2)[0]\n",
    "print(selected_features_indices)\n",
    "selected_features = X.columns[selected_features_indices]\n",
    "\n",
    "print(\"Selected Features:\", selected_features)\n",
    "print(\"Number of Selected Features:\", len(selected_features), \"out of\", X.shape[1], \"features (\", np.round(len(selected_features) / X.shape[1] * 100, 2), \"%)\")"
   ]
  },
  {
   "cell_type": "code",
   "execution_count": null,
   "id": "ebc95e6c",
   "metadata": {},
   "outputs": [],
   "source": [
    "# Train K-Nearest Neighbors classifier using selected features\n",
    "X_selected = X.iloc[:, selected_features_indices]\n",
    "X_train, X_test, y_train, y_test = train_test_split(X_selected, y, test_size=0.2, random_state=42)\n",
    "knn = KNeighborsClassifier(n_neighbors=3)\n",
    "knn.fit(X_train, y_train)\n",
    "y_pred = knn.predict(X_test)\n",
    "accuracy = accuracy_score(y_test, y_pred)\n",
    "\n",
    "# Plot accuracy\n",
    "print(\"Accuracy of KNN classifier using selected features:\", accuracy)"
   ]
  },
  {
   "cell_type": "markdown",
   "id": "ee22a878",
   "metadata": {},
   "source": [
    "## AFSA"
   ]
  },
  {
   "cell_type": "code",
   "execution_count": null,
   "id": "0a5ac035",
   "metadata": {},
   "outputs": [],
   "source": [
    "from sko.AFSA import AFSA\n",
    "\n",
    "# hyperparameters: n_dim, size_pop, max_iter, max_try_num, step, visual, q, delta\n",
    "n_dim = X.shape[1]\n",
    "size_pop = 5\n",
    "max_iter = 10\n",
    "max_try_num = 10\n",
    "step = 0.5\n",
    "visual = 0.3\n",
    "q = 0.98\n",
    "delta = 0.5\n",
    "\n",
    "# init and run AFSA\n",
    "afsa = AFSA(func=fitness_function, n_dim=n_dim, size_pop=size_pop, max_iter=max_iter, max_try_num=max_try_num, step=step, visual=visual, q=q, delta=delta)\n",
    "best_x, best_y = afsa.run()\n",
    "print(best_x, best_y)"
   ]
  },
  {
   "cell_type": "code",
   "execution_count": null,
   "id": "dc9d0c11",
   "metadata": {},
   "outputs": [
    {
     "name": "stdout",
     "output_type": "stream",
     "text": [
      "Selected Features: Index(['1053_at', '1294_at', '1320_at', '1438_at', '1487_at', '1552257_a_at',\n",
      "       '1552272_a_at', '1552275_s_at', '1552276_a_at', '1552277_a_at',\n",
      "       ...\n",
      "       'AFFX-r2-Bs-lys-5_at', 'AFFX-r2-Bs-phe-5_at', 'AFFX-r2-Bs-phe-M_at',\n",
      "       'AFFX-r2-Ec-bioB-3_at', 'AFFX-r2-Ec-bioB-M_at', 'AFFX-r2-Ec-bioC-3_at',\n",
      "       'AFFX-r2-P1-cre-5_at', 'AFFX-ThrX-M_at', 'AFFX-TrpnX-3_at',\n",
      "       'AFFX-TrpnX-M_at'],\n",
      "      dtype='object', length=27199)\n"
     ]
    }
   ],
   "source": [
    "# Extract selected features == 1\n",
    "selected_features_indices = np.nonzero(best_x == 1)[0]\n",
    "selected_features = X.columns[selected_features_indices]\n",
    "\n",
    "print(\"Selected Features:\", selected_features)\n",
    "print(\"Number of Selected Features:\", len(selected_features), \"out of\", X.shape[1], \"features (\", np.round(len(selected_features) / X.shape[1] * 100, 2), \"%)\")"
   ]
  },
  {
   "cell_type": "code",
   "execution_count": null,
   "id": "03100bdd",
   "metadata": {},
   "outputs": [],
   "source": [
    "# Train K-Nearest Neighbors classifier using selected features\n",
    "X_selected = X.iloc[:, selected_features_indices]\n",
    "X_train, X_test, y_train, y_test = train_test_split(X_selected, y, test_size=0.2, random_state=42)\n",
    "knn = KNeighborsClassifier(n_neighbors=3)\n",
    "knn.fit(X_train, y_train)\n",
    "y_pred = knn.predict(X_test)\n",
    "accuracy = accuracy_score(y_test, y_pred)\n",
    "\n",
    "# Plot accuracy\n",
    "print(\"Accuracy of KNN classifier using selected features:\", accuracy)"
   ]
  },
  {
   "cell_type": "code",
   "execution_count": null,
   "id": "15fd6ebd",
   "metadata": {},
   "outputs": [],
   "source": []
  }
 ],
 "metadata": {
  "kernelspec": {
   "display_name": "Python 3 (ipykernel)",
   "language": "python",
   "name": "python3"
  },
  "language_info": {
   "codemirror_mode": {
    "name": "ipython",
    "version": 3
   },
   "file_extension": ".py",
   "mimetype": "text/x-python",
   "name": "python",
   "nbconvert_exporter": "python",
   "pygments_lexer": "ipython3",
   "version": "3.10.2"
  }
 },
 "nbformat": 4,
 "nbformat_minor": 5
}
